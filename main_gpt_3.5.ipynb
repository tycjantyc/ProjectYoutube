{
 "cells": [
  {
   "cell_type": "code",
   "execution_count": null,
   "metadata": {},
   "outputs": [
    {
     "name": "stdout",
     "output_type": "stream",
     "text": [
      "Oto Twój transkrypt podcastu, wybierz najlepsze momenty: \n"
     ]
    }
   ],
   "source": [
    "import openai\n",
    "\n",
    "client = openai.OpenAI(api_key=key)\n",
    "\n",
    "\n",
    "\n",
    "f = open(\"basic_prompt.txt\", \"r\", encoding=\"utf-8\")\n",
    "basic_prompt = f.readline()\n",
    "\n",
    "f = open(\"system_prompt.txt\", \"r\", encoding=\"utf-8\")\n",
    "system_message = f.readline()\n",
    "\n",
    "print(basic_prompt)\n",
    "f = open(\"transcripts/transcript.txt\", \"r\", encoding=\"utf-8\")\n",
    "transcript = f.read()\n",
    "num = 0\n",
    "\n",
    "#COVERSATION HISTORY PREPARE\n",
    "\n",
    "conversation_history = [\n",
    "    {'role':'system', 'content': system_message},\n",
    "    {'role':'user', 'content': basic_prompt + transcript}\n",
    "]"
   ]
  },
  {
   "cell_type": "code",
   "execution_count": 2,
   "metadata": {},
   "outputs": [
    {
     "name": "stdout",
     "output_type": "stream",
     "text": [
      "Fragment 1: \"I wake up in the morning and I want to reach for my phone, but I know that even if I were to crank up the brightness on that phone screen, it's not bright enough to trigger that cortisol spike and for me to be at my most alert and focus throughout the day and to optimize my sleep at night.\"\n",
      "\n",
      "Fragment 2: \"So what I do is I get out of bed and I go outside. And if it's a bright clear day and the sun is low in the sky or the sun is starting to get overhead what we call low solar angle, then I know I'm getting outside at the right time.\"\n",
      "\n",
      "Fragment 3: \"But let's say it's a very clear day and I can see where the sun is. I do not need to stare directly into the sun. If it's very low in the sky, I might do that because it's not going to be very painful to my eyes.\"\n",
      "\n",
      "Fragment 4: \"If your eyeglasses or contact lenses have UV protection, that's okay. There's so many different wavelengths of light coming from the sun and they are bright enough that they will trigger the mechanisms that you want triggered at this early time of day.\"\n",
      "\n",
      "Fragment 5: \"First of all, this is not some woo biology thing. This is grounded in the core of our physiology. There are literally hundreds, if not thousands of quality peer-reviewed papers showing that light viewing early in the day is the most powerful stimulus for wakefulness throughout the day and it has a powerful positive impact on your ability to fall and stay asleep at night.\"\n",
      "\n",
      "Fragment 6: \"Second of all, if you wake up before the sun is out, you can and probably should flip on artificial lights in your internal home environments or apartment or wherever you happen to live, if your goal is to be awake.\"\n",
      "\n",
      "Fragment 7: \"Unless you have a very special light, the bright artificial lights in your home environment are not, I repeat, are not going to be sufficiently bright to turn on the cortisol mechanism and the other wake up mechanisms that you need early in the day.\"\n",
      "\n",
      "Fragment 8: \"But at night, even a little bit of artificial light can really mess up your so-called circadian, your 24-hour clocks and all these mechanisms that we're talking about.\"\n",
      "\n",
      "Fragment 9: \"On cloudy days, you especially need to get outside. I repeat, on cloudy days, overcast days, you especially need to get outside and get sunlight. You just need to get more of it.\"\n",
      "\n",
      "Fragment 10: \"Another key thing is do not forget about just don't try and get this sunlight exposure through a windshield of a car or a window, whether or not it's tinted or otherwise, it takes far too long, it's simply not going to trigger the relevant mechanisms.\"\n"
     ]
    }
   ],
   "source": [
    "#FIRST BASE PROMPT\n",
    "\n",
    "completion = client.chat.completions.create(\n",
    "    model=\"gpt-3.5-turbo\",\n",
    "    messages=conversation_history\n",
    ")\n",
    "\n",
    "#ADD QUERY TO HISTORY\n",
    "conversation_history.append({\"role\": \"assistant\", \"content\": completion.choices[0].message.content})\n",
    "\n",
    "#DISPLAY ANSWEAR\n",
    "print(completion.choices[0].message.content)"
   ]
  },
  {
   "cell_type": "code",
   "execution_count": 3,
   "metadata": {},
   "outputs": [
    {
     "name": "stdout",
     "output_type": "stream",
     "text": [
      "Fragment 1: \"I wake up in the morning and I want to reach for my phone, but I know that even if I were to crank up the brightness on that phone screen, it's not bright enough to trigger that cortisol spike and for me to be at my most alert and focus throughout the day and to optimize my sleep at night.\"\n",
      "\n",
      "Fragment 5: \"So trying it outside, ideally within the first five minutes of waking or maybe it's 15 minutes, but certainly within the first hour after waking. I want to share with you three critical things about this tool of morning sunlight viewing. First of all, this is not some woo biology thing. This is grounded in the core of our physiology. There are literally hundreds, if not thousands of quality peer-reviewed papers showing that light viewing early in the day is the most powerful stimulus for wakefulness throughout the day and it has a powerful positive impact on your ability to fall and stay asleep at night.\"\n",
      "\n",
      "\n"
     ]
    }
   ],
   "source": [
    "#REVISION PROMPT\n",
    "fragmenty_ok = \"1\"\n",
    "fragmenty_expand = \"5\"\n",
    "fragmenty_out = \"pozostałe\"\n",
    "\n",
    "revision_prompt = f\"\"\"Fragmenty {fragmenty_ok} są w porządku, przepisz je jeszcze raz.\n",
    "                      Fragmenty {fragmenty_expand} są zbyt krótkie, weź kilka zdań przed nimi i po nich i wypisz je ponownie.\n",
    "                      Fragmenty {fragmenty_out} są albo zbyt krótkie, albo zupełnie bez kontektsu, wyrzuć je.\"\"\"\n",
    "\n",
    "conversation_history.append({\"role\": \"user\", \"content\": revision_prompt})\n",
    "\n",
    "completion = client.chat.completions.create(\n",
    "    model=\"gpt-3.5-turbo\",\n",
    "    messages=conversation_history\n",
    ")\n",
    "\n",
    "#ADD QUERY TO HISTORY\n",
    "conversation_history.append({\"role\": \"assistant\", \"content\": completion.choices[0].message.content})\n",
    "\n",
    "#DISPLAY ANSWEAR\n",
    "print(completion.choices[0].message.content)\n",
    "\n"
   ]
  },
  {
   "cell_type": "code",
   "execution_count": 13,
   "metadata": {},
   "outputs": [],
   "source": [
    "import re\n",
    "\n",
    "fragments_final = completion.choices[0].message.content.split(\"\\n\")\n",
    "fragments_final = [i for i in fragments_final if i != '']\n",
    "\n",
    "for idx, frag in enumerate(fragments_final):\n",
    "    fragments_final[idx] = re.findall(r'\"(.*?)\"', frag)[0] + '\\n'\n",
    "\n",
    "f = open(\"final_fragments/fragments1.txt\", \"w\")\n",
    "f.writelines(fragments_final)\n",
    "f.close()"
   ]
  }
 ],
 "metadata": {
  "kernelspec": {
   "display_name": "Python 3",
   "language": "python",
   "name": "python3"
  },
  "language_info": {
   "codemirror_mode": {
    "name": "ipython",
    "version": 3
   },
   "file_extension": ".py",
   "mimetype": "text/x-python",
   "name": "python",
   "nbconvert_exporter": "python",
   "pygments_lexer": "ipython3",
   "version": "3.10.11"
  }
 },
 "nbformat": 4,
 "nbformat_minor": 2
}
